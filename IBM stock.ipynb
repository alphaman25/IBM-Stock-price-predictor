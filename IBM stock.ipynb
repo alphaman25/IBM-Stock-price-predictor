{
  "nbformat": 4,
  "nbformat_minor": 0,
  "metadata": {
    "colab": {
      "name": "Untitled17.ipynb",
      "provenance": []
    },
    "kernelspec": {
      "name": "python3",
      "display_name": "Python 3"
    }
  },
  "cells": [
    {
      "cell_type": "code",
      "metadata": {
        "id": "CWC6kmu67QtH",
        "colab_type": "code",
        "colab": {
          "base_uri": "https://localhost:8080/",
          "height": 74
        },
        "outputId": "ee39efe1-3612-4392-baa1-3f9181ee6eb6"
      },
      "source": [
        "import math\n",
        "import pandas_datareader as web\n",
        "import numpy as np\n",
        "import pandas as pd\n",
        "from sklearn.preprocessing import MinMaxScaler\n",
        "from keras.models import Sequential\n",
        "from keras.layers import Dense , LSTM\n",
        "import matplotlib.pyplot as plt\n",
        "plt.style.use('fivethirtyeight')"
      ],
      "execution_count": 1,
      "outputs": [
        {
          "output_type": "stream",
          "text": [
            "/usr/local/lib/python3.6/dist-packages/pandas_datareader/compat/__init__.py:7: FutureWarning: pandas.util.testing is deprecated. Use the functions in the public API at pandas.testing instead.\n",
            "  from pandas.util.testing import assert_frame_equal\n"
          ],
          "name": "stderr"
        }
      ]
    },
    {
      "cell_type": "code",
      "metadata": {
        "id": "u8_qsOj683vh",
        "colab_type": "code",
        "colab": {
          "base_uri": "https://localhost:8080/",
          "height": 455
        },
        "outputId": "1360a0cd-a51a-4445-f1ab-c24d62551239"
      },
      "source": [
        "df = web.DataReader('IBM' , data_source='yahoo', start = '2013-01-01', end='2020-04-01')\n",
        "\n",
        "df"
      ],
      "execution_count": 5,
      "outputs": [
        {
          "output_type": "execute_result",
          "data": {
            "text/html": [
              "<div>\n",
              "<style scoped>\n",
              "    .dataframe tbody tr th:only-of-type {\n",
              "        vertical-align: middle;\n",
              "    }\n",
              "\n",
              "    .dataframe tbody tr th {\n",
              "        vertical-align: top;\n",
              "    }\n",
              "\n",
              "    .dataframe thead th {\n",
              "        text-align: right;\n",
              "    }\n",
              "</style>\n",
              "<table border=\"1\" class=\"dataframe\">\n",
              "  <thead>\n",
              "    <tr style=\"text-align: right;\">\n",
              "      <th></th>\n",
              "      <th>High</th>\n",
              "      <th>Low</th>\n",
              "      <th>Open</th>\n",
              "      <th>Close</th>\n",
              "      <th>Volume</th>\n",
              "      <th>Adj Close</th>\n",
              "    </tr>\n",
              "    <tr>\n",
              "      <th>Date</th>\n",
              "      <th></th>\n",
              "      <th></th>\n",
              "      <th></th>\n",
              "      <th></th>\n",
              "      <th></th>\n",
              "      <th></th>\n",
              "    </tr>\n",
              "  </thead>\n",
              "  <tbody>\n",
              "    <tr>\n",
              "      <th>2013-01-02</th>\n",
              "      <td>196.350006</td>\n",
              "      <td>193.800003</td>\n",
              "      <td>194.089996</td>\n",
              "      <td>196.350006</td>\n",
              "      <td>4234100.0</td>\n",
              "      <td>149.965622</td>\n",
              "    </tr>\n",
              "    <tr>\n",
              "      <th>2013-01-03</th>\n",
              "      <td>196.289993</td>\n",
              "      <td>194.440002</td>\n",
              "      <td>195.669998</td>\n",
              "      <td>195.270004</td>\n",
              "      <td>3644700.0</td>\n",
              "      <td>149.140732</td>\n",
              "    </tr>\n",
              "    <tr>\n",
              "      <th>2013-01-04</th>\n",
              "      <td>194.460007</td>\n",
              "      <td>192.779999</td>\n",
              "      <td>194.190002</td>\n",
              "      <td>193.990005</td>\n",
              "      <td>3380200.0</td>\n",
              "      <td>148.163147</td>\n",
              "    </tr>\n",
              "    <tr>\n",
              "      <th>2013-01-07</th>\n",
              "      <td>193.779999</td>\n",
              "      <td>192.339996</td>\n",
              "      <td>193.399994</td>\n",
              "      <td>193.139999</td>\n",
              "      <td>2862300.0</td>\n",
              "      <td>147.513916</td>\n",
              "    </tr>\n",
              "    <tr>\n",
              "      <th>2013-01-08</th>\n",
              "      <td>193.300003</td>\n",
              "      <td>191.600006</td>\n",
              "      <td>192.919998</td>\n",
              "      <td>192.869995</td>\n",
              "      <td>3026900.0</td>\n",
              "      <td>147.307709</td>\n",
              "    </tr>\n",
              "    <tr>\n",
              "      <th>...</th>\n",
              "      <td>...</td>\n",
              "      <td>...</td>\n",
              "      <td>...</td>\n",
              "      <td>...</td>\n",
              "      <td>...</td>\n",
              "      <td>...</td>\n",
              "    </tr>\n",
              "    <tr>\n",
              "      <th>2020-03-26</th>\n",
              "      <td>113.150002</td>\n",
              "      <td>105.570000</td>\n",
              "      <td>106.910004</td>\n",
              "      <td>112.889999</td>\n",
              "      <td>7153500.0</td>\n",
              "      <td>112.889999</td>\n",
              "    </tr>\n",
              "    <tr>\n",
              "      <th>2020-03-27</th>\n",
              "      <td>111.500000</td>\n",
              "      <td>107.650002</td>\n",
              "      <td>108.580002</td>\n",
              "      <td>108.029999</td>\n",
              "      <td>6423000.0</td>\n",
              "      <td>108.029999</td>\n",
              "    </tr>\n",
              "    <tr>\n",
              "      <th>2020-03-30</th>\n",
              "      <td>113.459999</td>\n",
              "      <td>107.809998</td>\n",
              "      <td>108.089996</td>\n",
              "      <td>112.930000</td>\n",
              "      <td>5564500.0</td>\n",
              "      <td>112.930000</td>\n",
              "    </tr>\n",
              "    <tr>\n",
              "      <th>2020-03-31</th>\n",
              "      <td>113.809998</td>\n",
              "      <td>110.169998</td>\n",
              "      <td>112.000000</td>\n",
              "      <td>110.930000</td>\n",
              "      <td>6343300.0</td>\n",
              "      <td>110.930000</td>\n",
              "    </tr>\n",
              "    <tr>\n",
              "      <th>2020-04-01</th>\n",
              "      <td>109.919998</td>\n",
              "      <td>104.519997</td>\n",
              "      <td>106.360001</td>\n",
              "      <td>105.139999</td>\n",
              "      <td>6112900.0</td>\n",
              "      <td>105.139999</td>\n",
              "    </tr>\n",
              "  </tbody>\n",
              "</table>\n",
              "<p>1825 rows × 6 columns</p>\n",
              "</div>"
            ],
            "text/plain": [
              "                  High         Low  ...     Volume   Adj Close\n",
              "Date                                ...                       \n",
              "2013-01-02  196.350006  193.800003  ...  4234100.0  149.965622\n",
              "2013-01-03  196.289993  194.440002  ...  3644700.0  149.140732\n",
              "2013-01-04  194.460007  192.779999  ...  3380200.0  148.163147\n",
              "2013-01-07  193.779999  192.339996  ...  2862300.0  147.513916\n",
              "2013-01-08  193.300003  191.600006  ...  3026900.0  147.307709\n",
              "...                ...         ...  ...        ...         ...\n",
              "2020-03-26  113.150002  105.570000  ...  7153500.0  112.889999\n",
              "2020-03-27  111.500000  107.650002  ...  6423000.0  108.029999\n",
              "2020-03-30  113.459999  107.809998  ...  5564500.0  112.930000\n",
              "2020-03-31  113.809998  110.169998  ...  6343300.0  110.930000\n",
              "2020-04-01  109.919998  104.519997  ...  6112900.0  105.139999\n",
              "\n",
              "[1825 rows x 6 columns]"
            ]
          },
          "metadata": {
            "tags": []
          },
          "execution_count": 5
        }
      ]
    },
    {
      "cell_type": "code",
      "metadata": {
        "id": "IsH53B24_DHN",
        "colab_type": "code",
        "colab": {
          "base_uri": "https://localhost:8080/",
          "height": 35
        },
        "outputId": "67b0b60a-7a36-4c73-c152-b28d0ae73ee3"
      },
      "source": [
        "df.shape"
      ],
      "execution_count": 6,
      "outputs": [
        {
          "output_type": "execute_result",
          "data": {
            "text/plain": [
              "(1825, 6)"
            ]
          },
          "metadata": {
            "tags": []
          },
          "execution_count": 6
        }
      ]
    },
    {
      "cell_type": "code",
      "metadata": {
        "id": "5tqrgxYH_Y28",
        "colab_type": "code",
        "colab": {
          "base_uri": "https://localhost:8080/",
          "height": 338
        },
        "outputId": "2124801f-429f-41b6-8cc4-18787ef2f4a6"
      },
      "source": [
        "plt.figure(figsize=(16,8))\n",
        "plt.title('Close Price History')\n",
        "plt.plot(df['Close'])\n",
        "plt.xlabel('Date', fontsize=25)\n",
        "plt.ylabel('Close Price USD ($)' , fontsize=18)\n",
        "plt.show()\n"
      ],
      "execution_count": 8,
      "outputs": [
        {
          "output_type": "display_data",
          "data": {
            "image/png": "[encoded data removed]",
            "text/plain": [
              "<Figure size 1152x576 with 1 Axes>"
            ]
          },
          "metadata": {
            "tags": [],
            "needs_background": "light"
          }
        }
      ]
    },
    {
      "cell_type": "code",
      "metadata": {
        "id": "bD-BJ_fNBcEV",
        "colab_type": "code",
        "colab": {
          "base_uri": "https://localhost:8080/",
          "height": 35
        },
        "outputId": "2c49f264-03d6-45b0-a2c3-3b3914f9afcb"
      },
      "source": [
        "data = df.filter(['Close'])\n",
        "dataset = data.values\n",
        "training_data_len = math.ceil( len(dataset) * 0.8)\n",
        "training_data_len"
      ],
      "execution_count": 9,
      "outputs": [
        {
          "output_type": "execute_result",
          "data": {
            "text/plain": [
              "1460"
            ]
          },
          "metadata": {
            "tags": []
          },
          "execution_count": 9
        }
      ]
    },
    {
      "cell_type": "code",
      "metadata": {
        "id": "ij2o5RPDB81n",
        "colab_type": "code",
        "colab": {
          "base_uri": "https://localhost:8080/",
          "height": 146
        },
        "outputId": "8aad8f4d-ad1b-4f36-98cf-84462b8c8bfa"
      },
      "source": [
        "scaler = MinMaxScaler(feature_range=(0,1))\n",
        "scaled_data = scaler.fit_transform(dataset)\n",
        "\n",
        "scaled_data"
      ],
      "execution_count": 10,
      "outputs": [
        {
          "output_type": "execute_result",
          "data": {
            "text/plain": [
              "array([[0.83929608],\n",
              "       [0.83037265],\n",
              "       [0.81979677],\n",
              "       ...,\n",
              "       [0.15004547],\n",
              "       [0.13352064],\n",
              "       [0.08568125]])"
            ]
          },
          "metadata": {
            "tags": []
          },
          "execution_count": 10
        }
      ]
    },
    {
      "cell_type": "code",
      "metadata": {
        "id": "WNOPQVK8Co8s",
        "colab_type": "code",
        "colab": {
          "base_uri": "https://localhost:8080/",
          "height": 753
        },
        "outputId": "658bdae5-54a4-4f36-ef1c-a3f1bad6e41c"
      },
      "source": [
        "train_data = scaled_data[0:training_data_len , :]\n",
        "x_train = []\n",
        "y_train = []\n",
        "\n",
        "for i in range(60, len(train_data)):\n",
        "  x_train.append(train_data[i-60:i , 0])\n",
        "  y_train.append(train_data[i , 0])\n",
        "  if i<=61:\n",
        "    print(x_train)\n",
        "    print(y_train)\n",
        "    print()"
      ],
      "execution_count": 12,
      "outputs": [
        {
          "output_type": "stream",
          "text": [
            "[array([0.83929608, 0.83037265, 0.81979677, 0.81277367, 0.81054279,\n",
            "       0.80599856, 0.81062549, 0.82359741, 0.80847718, 0.80748573,\n",
            "       0.80822932, 0.81698746, 0.8237627 , 0.83706519, 0.90845244,\n",
            "       0.90597369, 0.91051804, 0.91018748, 0.9016772 , 0.89853757,\n",
            "       0.89481951, 0.91225308, 0.90076833, 0.89250592, 0.87788153,\n",
            "       0.86730565, 0.88333463, 0.87077585, 0.86978428, 0.87019742,\n",
            "       0.86656194, 0.87755097, 0.87209787, 0.86375275, 0.85565562,\n",
            "       0.87845984, 0.84888038, 0.86234816, 0.88870528, 0.87631165,\n",
            "       0.89349749, 0.91233578, 0.92340739, 0.9386929 , 0.94728576,\n",
            "       0.95521773, 0.95273898, 0.95662233, 0.96909853, 1.        ,\n",
            "       0.99272904, 0.97860038, 0.9805007 , 0.99388577, 0.97075098,\n",
            "       0.96926381, 0.95819221, 0.97157728, 0.95943152, 0.97934397])]\n",
            "[0.9717425597963141]\n",
            "\n",
            "[array([0.83929608, 0.83037265, 0.81979677, 0.81277367, 0.81054279,\n",
            "       0.80599856, 0.81062549, 0.82359741, 0.80847718, 0.80748573,\n",
            "       0.80822932, 0.81698746, 0.8237627 , 0.83706519, 0.90845244,\n",
            "       0.90597369, 0.91051804, 0.91018748, 0.9016772 , 0.89853757,\n",
            "       0.89481951, 0.91225308, 0.90076833, 0.89250592, 0.87788153,\n",
            "       0.86730565, 0.88333463, 0.87077585, 0.86978428, 0.87019742,\n",
            "       0.86656194, 0.87755097, 0.87209787, 0.86375275, 0.85565562,\n",
            "       0.87845984, 0.84888038, 0.86234816, 0.88870528, 0.87631165,\n",
            "       0.89349749, 0.91233578, 0.92340739, 0.9386929 , 0.94728576,\n",
            "       0.95521773, 0.95273898, 0.95662233, 0.96909853, 1.        ,\n",
            "       0.99272904, 0.97860038, 0.9805007 , 0.99388577, 0.97075098,\n",
            "       0.96926381, 0.95819221, 0.97157728, 0.95943152, 0.97934397]), array([0.83037265, 0.81979677, 0.81277367, 0.81054279, 0.80599856,\n",
            "       0.81062549, 0.82359741, 0.80847718, 0.80748573, 0.80822932,\n",
            "       0.81698746, 0.8237627 , 0.83706519, 0.90845244, 0.90597369,\n",
            "       0.91051804, 0.91018748, 0.9016772 , 0.89853757, 0.89481951,\n",
            "       0.91225308, 0.90076833, 0.89250592, 0.87788153, 0.86730565,\n",
            "       0.88333463, 0.87077585, 0.86978428, 0.87019742, 0.86656194,\n",
            "       0.87755097, 0.87209787, 0.86375275, 0.85565562, 0.87845984,\n",
            "       0.84888038, 0.86234816, 0.88870528, 0.87631165, 0.89349749,\n",
            "       0.91233578, 0.92340739, 0.9386929 , 0.94728576, 0.95521773,\n",
            "       0.95273898, 0.95662233, 0.96909853, 1.        , 0.99272904,\n",
            "       0.97860038, 0.9805007 , 0.99388577, 0.97075098, 0.96926381,\n",
            "       0.95819221, 0.97157728, 0.95943152, 0.97934397, 0.97174256])]\n",
            "[0.9717425597963141, 0.988102103898568]\n",
            "\n"
          ],
          "name": "stdout"
        }
      ]
    },
    {
      "cell_type": "code",
      "metadata": {
        "id": "YGvMF1aBSR8L",
        "colab_type": "code",
        "colab": {}
      },
      "source": [
        "x_train , y_train = np.array(x_train) , np.array(y_train)"
      ],
      "execution_count": 0,
      "outputs": []
    },
    {
      "cell_type": "code",
      "metadata": {
        "id": "qxkxvFtsSfKw",
        "colab_type": "code",
        "colab": {
          "base_uri": "https://localhost:8080/",
          "height": 35
        },
        "outputId": "4c47a10a-f53c-4ee0-b29e-742e166df015"
      },
      "source": [
        "x_train = np.reshape(x_train , (x_train.shape[0],x_train.shape[1],1))\n",
        "x_train.shape"
      ],
      "execution_count": 17,
      "outputs": [
        {
          "output_type": "execute_result",
          "data": {
            "text/plain": [
              "(1400, 60, 1)"
            ]
          },
          "metadata": {
            "tags": []
          },
          "execution_count": 17
        }
      ]
    },
    {
      "cell_type": "code",
      "metadata": {
        "id": "_qqfi8d6UDbQ",
        "colab_type": "code",
        "colab": {}
      },
      "source": [
        "model = Sequential()\n",
        "model.add(LSTM(50, return_sequences=True, input_shape=(x_train.shape[1],1)))\n",
        "model.add(LSTM(50, return_sequences= False))\n",
        "model.add(Dense(25))\n",
        "model.add(Dense(1))"
      ],
      "execution_count": 0,
      "outputs": []
    },
    {
      "cell_type": "code",
      "metadata": {
        "id": "wuqKonuNZaz3",
        "colab_type": "code",
        "colab": {}
      },
      "source": [
        "model.compile(optimizer='adam' , loss='mean_squared_error')"
      ],
      "execution_count": 0,
      "outputs": []
    },
    {
      "cell_type": "code",
      "metadata": {
        "id": "r6RK9DUyaJ7P",
        "colab_type": "code",
        "colab": {
          "base_uri": "https://localhost:8080/",
          "height": 72
        },
        "outputId": "9dd306e0-13cb-4213-c630-a877f8c6e83c"
      },
      "source": [
        "model.fit(x_train , y_train , batch_size=1 , epochs=1)"
      ],
      "execution_count": 21,
      "outputs": [
        {
          "output_type": "stream",
          "text": [
            "Epoch 1/1\n",
            "1400/1400 [==============================] - 56s 40ms/step - loss: 0.0013\n"
          ],
          "name": "stdout"
        },
        {
          "output_type": "execute_result",
          "data": {
            "text/plain": [
              "<keras.callbacks.callbacks.History at 0x7f0fc8654710>"
            ]
          },
          "metadata": {
            "tags": []
          },
          "execution_count": 21
        }
      ]
    },
    {
      "cell_type": "code",
      "metadata": {
        "id": "yn-nj9Khaypj",
        "colab_type": "code",
        "colab": {}
      },
      "source": [
        "test_data = scaled_data[training_data_len - 60: , :]\n",
        "x_test = []\n",
        "y_test = dataset[training_data_len:, :]\n",
        "for i in range(60, len(test_data)):\n",
        "  x_test.append(test_data[i-60:i, 0])"
      ],
      "execution_count": 0,
      "outputs": []
    },
    {
      "cell_type": "code",
      "metadata": {
        "id": "iZvp81pobcH-",
        "colab_type": "code",
        "colab": {}
      },
      "source": [
        "x_test = np.array(x_test)"
      ],
      "execution_count": 0,
      "outputs": []
    },
    {
      "cell_type": "code",
      "metadata": {
        "id": "EyPrZA9gbjBg",
        "colab_type": "code",
        "colab": {}
      },
      "source": [
        " x_test = np.reshape(x_test, (x_test.shape[0], x_test.shape[1], 1 ))"
      ],
      "execution_count": 0,
      "outputs": []
    },
    {
      "cell_type": "code",
      "metadata": {
        "id": "zfrnkN_Fbxcp",
        "colab_type": "code",
        "colab": {}
      },
      "source": [
        "predictions  = model.predict(x_test)\n",
        "predictions = scaler.inverse_transform(predictions)"
      ],
      "execution_count": 0,
      "outputs": []
    },
    {
      "cell_type": "code",
      "metadata": {
        "id": "y5ia2LsQeJXZ",
        "colab_type": "code",
        "colab": {
          "base_uri": "https://localhost:8080/",
          "height": 35
        },
        "outputId": "04c5e313-fc1e-435c-e64d-ae5d5a3e88ca"
      },
      "source": [
        "rmse = np.sqrt(np.mean(predictions - y_test)**2)\n",
        "rmse"
      ],
      "execution_count": 35,
      "outputs": [
        {
          "output_type": "execute_result",
          "data": {
            "text/plain": [
              "0.03013997535183005"
            ]
          },
          "metadata": {
            "tags": []
          },
          "execution_count": 35
        }
      ]
    },
    {
      "cell_type": "code",
      "metadata": {
        "id": "FIGbmwVbfxf0",
        "colab_type": "code",
        "colab": {
          "base_uri": "https://localhost:8080/",
          "height": 458
        },
        "outputId": "4de011d8-711b-4a60-ad05-1cc561814fa7"
      },
      "source": [
        "train = data[:training_data_len]\n",
        "valid = data[training_data_len:]\n",
        "valid['Predictions'] = predictions\n",
        "plt.figure(figsize=(16,8))\n",
        "plt.title('Model')\n",
        "plt.xlabel('Date', fontsize=8)\n",
        "plt.ylabel('Closing Price USD $', fontsize=18)\n",
        "plt.plot(train['Close'])\n",
        "plt.plot(valid[['Close','Predictions']])\n",
        "plt.legend(['Train','Val','Prediction'],loc='lower right')\n",
        "plt.show()"
      ],
      "execution_count": 37,
      "outputs": [
        {
          "output_type": "stream",
          "text": [
            "/usr/local/lib/python3.6/dist-packages/ipykernel_launcher.py:3: SettingWithCopyWarning: \n",
            "A value is trying to be set on a copy of a slice from a DataFrame.\n",
            "Try using .loc[row_indexer,col_indexer] = value instead\n",
            "\n",
            "See the caveats in the documentation: https://pandas.pydata.org/pandas-docs/stable/user_guide/indexing.html#returning-a-view-versus-a-copy\n",
            "  This is separate from the ipykernel package so we can avoid doing imports until\n"
          ],
          "name": "stderr"
        },
        {
          "output_type": "display_data",
          "data": {
            "image/png": "[encoded data removed]",
            "text/plain": [
              "<Figure size 1152x576 with 1 Axes>"
            ]
          },
          "metadata": {
            "tags": [],
            "needs_background": "light"
          }
        }
      ]
    },
    {
      "cell_type": "code",
      "metadata": {
        "id": "iDme8QlBmnzd",
        "colab_type": "code",
        "colab": {
          "base_uri": "https://localhost:8080/",
          "height": 455
        },
        "outputId": "d68a225b-ebd9-4730-81f3-c7cd4fe28974"
      },
      "source": [
        "valid"
      ],
      "execution_count": 38,
      "outputs": [
        {
          "output_type": "execute_result",
          "data": {
            "text/html": [
              "<div>\n",
              "<style scoped>\n",
              "    .dataframe tbody tr th:only-of-type {\n",
              "        vertical-align: middle;\n",
              "    }\n",
              "\n",
              "    .dataframe tbody tr th {\n",
              "        vertical-align: top;\n",
              "    }\n",
              "\n",
              "    .dataframe thead th {\n",
              "        text-align: right;\n",
              "    }\n",
              "</style>\n",
              "<table border=\"1\" class=\"dataframe\">\n",
              "  <thead>\n",
              "    <tr style=\"text-align: right;\">\n",
              "      <th></th>\n",
              "      <th>Close</th>\n",
              "      <th>Predictions</th>\n",
              "    </tr>\n",
              "    <tr>\n",
              "      <th>Date</th>\n",
              "      <th></th>\n",
              "      <th></th>\n",
              "    </tr>\n",
              "  </thead>\n",
              "  <tbody>\n",
              "    <tr>\n",
              "      <th>2018-10-18</th>\n",
              "      <td>130.550003</td>\n",
              "      <td>140.302399</td>\n",
              "    </tr>\n",
              "    <tr>\n",
              "      <th>2018-10-19</th>\n",
              "      <td>129.100006</td>\n",
              "      <td>137.835358</td>\n",
              "    </tr>\n",
              "    <tr>\n",
              "      <th>2018-10-22</th>\n",
              "      <td>130.020004</td>\n",
              "      <td>135.221817</td>\n",
              "    </tr>\n",
              "    <tr>\n",
              "      <th>2018-10-23</th>\n",
              "      <td>131.210007</td>\n",
              "      <td>133.213074</td>\n",
              "    </tr>\n",
              "    <tr>\n",
              "      <th>2018-10-24</th>\n",
              "      <td>127.209999</td>\n",
              "      <td>132.036346</td>\n",
              "    </tr>\n",
              "    <tr>\n",
              "      <th>...</th>\n",
              "      <td>...</td>\n",
              "      <td>...</td>\n",
              "    </tr>\n",
              "    <tr>\n",
              "      <th>2020-03-26</th>\n",
              "      <td>112.889999</td>\n",
              "      <td>102.682533</td>\n",
              "    </tr>\n",
              "    <tr>\n",
              "      <th>2020-03-27</th>\n",
              "      <td>108.029999</td>\n",
              "      <td>105.097450</td>\n",
              "    </tr>\n",
              "    <tr>\n",
              "      <th>2020-03-30</th>\n",
              "      <td>112.930000</td>\n",
              "      <td>106.873222</td>\n",
              "    </tr>\n",
              "    <tr>\n",
              "      <th>2020-03-31</th>\n",
              "      <td>110.930000</td>\n",
              "      <td>108.884491</td>\n",
              "    </tr>\n",
              "    <tr>\n",
              "      <th>2020-04-01</th>\n",
              "      <td>105.139999</td>\n",
              "      <td>110.284821</td>\n",
              "    </tr>\n",
              "  </tbody>\n",
              "</table>\n",
              "<p>365 rows × 2 columns</p>\n",
              "</div>"
            ],
            "text/plain": [
              "                 Close  Predictions\n",
              "Date                               \n",
              "2018-10-18  130.550003   140.302399\n",
              "2018-10-19  129.100006   137.835358\n",
              "2018-10-22  130.020004   135.221817\n",
              "2018-10-23  131.210007   133.213074\n",
              "2018-10-24  127.209999   132.036346\n",
              "...                ...          ...\n",
              "2020-03-26  112.889999   102.682533\n",
              "2020-03-27  108.029999   105.097450\n",
              "2020-03-30  112.930000   106.873222\n",
              "2020-03-31  110.930000   108.884491\n",
              "2020-04-01  105.139999   110.284821\n",
              "\n",
              "[365 rows x 2 columns]"
            ]
          },
          "metadata": {
            "tags": []
          },
          "execution_count": 38
        }
      ]
    },
    {
      "cell_type": "code",
      "metadata": {
        "id": "tpKq2ezdm6sJ",
        "colab_type": "code",
        "colab": {
          "base_uri": "https://localhost:8080/",
          "height": 35
        },
        "outputId": "38d6d924-fd7d-4676-90a8-5235f18cb0b5"
      },
      "source": [
        "ibm_quote = web.DataReader('IBM',data_source='yahoo',start = '2013-01-01' , end='2020-04-28')\n",
        "new_df = ibm_quote.filter(['Close'])\n",
        "last_60_days = new_df[-60:].values\n",
        "last_60_days_scaled = scaler.transform(last_60_days)\n",
        "X_test=[]\n",
        "X_test.append(last_60_days_scaled)\n",
        "X_test=np.array(X_test)\n",
        "X_test=np.reshape(X_test,(X_test.shape[0],X_test.shape[1],1))\n",
        "pred_price = model.predict(X_test)\n",
        "pred_price=scaler.inverse_transform(pred_price)\n",
        "print(pred_price)\n"
      ],
      "execution_count": 49,
      "outputs": [
        {
          "output_type": "stream",
          "text": [
            "[[120.50468]]\n"
          ],
          "name": "stdout"
        }
      ]
    },
    {
      "cell_type": "code",
      "metadata": {
        "id": "vxgvV1uvo_YF",
        "colab_type": "code",
        "colab": {
          "base_uri": "https://localhost:8080/",
          "height": 256
        },
        "outputId": "5ad2cad5-db68-45af-860d-c064935dcaa5"
      },
      "source": [
        "ibm_quote2 = web.DataReader('IBM',data_source='yahoo',start = '2013-01-01' , end='2020-04-28')\n",
        "print(ibm_quote2['Close'])\n"
      ],
      "execution_count": 48,
      "outputs": [
        {
          "output_type": "stream",
          "text": [
            "Date\n",
            "2013-01-02    196.350006\n",
            "2013-01-03    195.270004\n",
            "2013-01-04    193.990005\n",
            "2013-01-07    193.139999\n",
            "2013-01-08    192.869995\n",
            "                 ...    \n",
            "2020-04-20    120.410004\n",
            "2020-04-21    116.760002\n",
            "2020-04-22    119.309998\n",
            "2020-04-23    121.349998\n",
            "2020-04-24    124.720001\n",
            "Name: Close, Length: 1841, dtype: float64\n"
          ],
          "name": "stdout"
        }
      ]
    },
    {
      "cell_type": "code",
      "metadata": {
        "id": "Bunpx0xXqIxW",
        "colab_type": "code",
        "colab": {}
      },
      "source": [
        ""
      ],
      "execution_count": 0,
      "outputs": []
    }
  ]
}